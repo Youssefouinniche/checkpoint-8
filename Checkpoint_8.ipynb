{
  "nbformat": 4,
  "nbformat_minor": 0,
  "metadata": {
    "colab": {
      "name": "Checkpoint 8",
      "provenance": [],
      "collapsed_sections": []
    },
    "kernelspec": {
      "name": "python3",
      "display_name": "Python 3"
    },
    "language_info": {
      "name": "python"
    }
  },
  "cells": [
    {
      "cell_type": "code",
      "metadata": {
        "id": "n8NCrIHPtYi9",
        "colab": {
          "base_uri": "https://localhost:8080/",
          "height": 238
        },
        "outputId": "cfbf74c3-d32b-497d-b8aa-3779ed907d8d"
      },
      "source": [
        "#read an entire file\n",
        "f = open(\"test.txt\",'r')\n",
        "print(f.read())\n",
        "f.closed()\n",
        "#read the first n line\n",
        "line_count = 0\n",
        "for line in file:\n",
        "    if line != \"\\n\":\n",
        "        line_count += 1\n",
        "for i in range (line_count) : \n",
        "  line  = f.readline()\n",
        "  print(line)\n",
        "f.closed()\n",
        "#read last n line\n",
        "line_count = 0\n",
        "for line in file :\n",
        "  if line !=\"\\n\" :\n",
        "    line_count +=1 \n",
        "for i in range (line_count) :\n",
        "  print(f[:-line_count])\n",
        "f.closed()\n",
        "#return the number of words in a file\n",
        "m = open(\"test.txt\", \"rt\")\n",
        "m.write(\"YOOOO\")\n",
        "data = m.read()\n",
        "words = data.split()\n",
        "print('Number of words in text file :', len(words))\n"
      ],
      "execution_count": 30,
      "outputs": [
        {
          "output_type": "error",
          "ename": "TypeError",
          "evalue": "ignored",
          "traceback": [
            "\u001b[0;31m---------------------------------------------------------------------------\u001b[0m",
            "\u001b[0;31mTypeError\u001b[0m                                 Traceback (most recent call last)",
            "\u001b[0;32m<ipython-input-30-e30e471c028f>\u001b[0m in \u001b[0;36m<module>\u001b[0;34m()\u001b[0m\n\u001b[1;32m     21\u001b[0m f.closed()\"\"\"\n\u001b[1;32m     22\u001b[0m \u001b[0;31m#return the number of words in a file\u001b[0m\u001b[0;34m\u001b[0m\u001b[0;34m\u001b[0m\u001b[0;34m\u001b[0m\u001b[0m\n\u001b[0;32m---> 23\u001b[0;31m \u001b[0mm\u001b[0m \u001b[0;34m=\u001b[0m \u001b[0mopen\u001b[0m\u001b[0;34m(\u001b[0m\u001b[0;34m\"test.txt\"\u001b[0m\u001b[0;34m,\u001b[0m \u001b[0;34m\"w\"\u001b[0m\u001b[0;34m,\u001b[0m\u001b[0;34m\"r\"\u001b[0m\u001b[0;34m)\u001b[0m\u001b[0;34m\u001b[0m\u001b[0;34m\u001b[0m\u001b[0m\n\u001b[0m\u001b[1;32m     24\u001b[0m \u001b[0mm\u001b[0m\u001b[0;34m.\u001b[0m\u001b[0mwrite\u001b[0m\u001b[0;34m(\u001b[0m\u001b[0;34m\"YOOOO\"\u001b[0m\u001b[0;34m)\u001b[0m\u001b[0;34m\u001b[0m\u001b[0;34m\u001b[0m\u001b[0m\n\u001b[1;32m     25\u001b[0m \u001b[0mdata\u001b[0m \u001b[0;34m=\u001b[0m \u001b[0mm\u001b[0m\u001b[0;34m.\u001b[0m\u001b[0mread\u001b[0m\u001b[0;34m(\u001b[0m\u001b[0;34m)\u001b[0m\u001b[0;34m\u001b[0m\u001b[0;34m\u001b[0m\u001b[0m\n",
            "\u001b[0;31mTypeError\u001b[0m: an integer is required (got type str)"
          ]
        }
      ]
    }
  ]
}